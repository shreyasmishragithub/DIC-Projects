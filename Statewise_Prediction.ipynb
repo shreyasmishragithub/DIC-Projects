{
  "nbformat": 4,
  "nbformat_minor": 0,
  "metadata": {
    "colab": {
      "name": "Covid_MAHARASHTRA.ipynb",
      "provenance": [],
      "collapsed_sections": []
    },
    "kernelspec": {
      "name": "python3",
      "display_name": "Python 3"
    }
  },
  "cells": [
    {
      "cell_type": "code",
      "metadata": {
        "id": "bNZBxIC6OyTM",
        "colab_type": "code",
        "colab": {}
      },
      "source": [
        "import numpy as np\n",
        "from sklearn.preprocessing import PolynomialFeatures\n",
        "from sklearn.linear_model import LinearRegression\n",
        "import pandas as pd\n",
        "import matplotlib.pyplot as plt"
      ],
      "execution_count": 3,
      "outputs": []
    },
    {
      "cell_type": "code",
      "metadata": {
        "id": "p8g6yDC2DDeN",
        "colab_type": "code",
        "colab": {}
      },
      "source": [
        "df=pd.read_csv(\"Maharashtra.csv\")\n"
      ],
      "execution_count": 5,
      "outputs": []
    },
    {
      "cell_type": "code",
      "metadata": {
        "id": "QD8ePvGXEhLd",
        "colab_type": "code",
        "colab": {
          "base_uri": "https://localhost:8080/",
          "height": 563
        },
        "outputId": "f2d5c2c5-6547-42be-99bb-c8453bd30d6b"
      },
      "source": [
        "Days=np.array(df['days'])\n",
        "print(\"Days\",Days)\n",
        "Confirmed=np.array(df['confirmed'])\n",
        "print(\"Confirmed\",Confirmed)\n",
        "Deaths=np.array(df['deceased'])\n",
        "print(\"Deaths\",Deaths)\n",
        "Recovered=np.array(df['recovered'])\n",
        "print(\"Recoverd\",Recovered)"
      ],
      "execution_count": 14,
      "outputs": [
        {
          "output_type": "stream",
          "text": [
            "Days [  1   2   3   4   5   6   7   8   9  10  11  12  13  14  15  16  17  18\n",
            "  19  20  21  22  23  24  25  26  27  28  29  30  31  32  33  34  35  36\n",
            "  37  38  39  40  41  42  43  44  45  46  47  48  49  50  51  52  53  54\n",
            "  55  56  57  58  59  60  61  62  63  64  65  66  67  68  69  70  71  72\n",
            "  73  74  75  76  77  78  79  80  81  82  83  84  85  86  87  88  89  90\n",
            "  91  92  93  94  95  96  97  98  99 100 101 102 103 104]\n",
            "Confirmed [  14   18    6    3    3    4    4   12   10   23   10   15    3   31\n",
            "   30   17   17   82   33   88   64  148  112  121  150  117  229  210\n",
            "  187  221  352  346  236  285  120  327  552  466  552  431  778  390\n",
            "  811  440  522  728  597  583 1008  790  678 1567  984 1233 1216 1089\n",
            " 1165 1943 1230 1026 1495 1602 1576 1606 2347 2005 2078 2161 2345 2940\n",
            " 2608 3041 2436 2091 2190 2598 2682 2940 2487 2358 2287 2560 2933 2436\n",
            " 2739 3007 2554 2258 3254 3607 3493 3427 3390 2786 2701 3307 3752 3827\n",
            " 3874 3870 3721 3214 3889 4842]\n",
            "Deaths [   0    0    0    1    0    0    0    0    1    0    0    0    1    1\n",
            "    2    1    2    1    3    8    5    6   13    7   12    8   25   12\n",
            "   17   22   11   18    9    7    7   10   12    9   19   18   14   18\n",
            "   22   19   27   31   32   27   26   36   27   35   34   34   43   37\n",
            "   48   53   36   53   54   44   49   67   63   51   76   65   64   63\n",
            "   60   58   60   97  105   85  116   99   89   76  103  122  123  139\n",
            "  120   91  109  120  149  152  127  113  120  178 1409  114  100  142\n",
            "   91  186  113  248  208  192]\n",
            "Recoverd [   0    0    0    0    0    0    0    0    0    0    0    1    0   18\n",
            "    6    0   14    0    0    3    8    2    4   14    9   38    8   63\n",
            "   20    9   12   30   36    5   31   34  142   65  150   67   51  117\n",
            "  119  112   94  106  205  180  106  121  115  350  354  275  207  169\n",
            "  330  399  587  339  422  542  475  524  600  749 1202  679 1408  857\n",
            "  821 1196 1186 1168  964  698 8381 1084 1248  779 1225  996 1352 1466\n",
            " 2243 1924 1661 1664 1877 1562 1718 1550 1632 5071 1802 1315 1672 1935\n",
            " 1380 1591 1962 1925 4161 3661]\n"
          ],
          "name": "stdout"
        }
      ]
    },
    {
      "cell_type": "code",
      "metadata": {
        "id": "yTgRmSnsFn9D",
        "colab_type": "code",
        "colab": {
          "base_uri": "https://localhost:8080/",
          "height": 283
        },
        "outputId": "4abaf66b-b63b-47a8-a0a7-c3756dc9fdbb"
      },
      "source": [
        "plt.plot(Days,Recovered)"
      ],
      "execution_count": 15,
      "outputs": [
        {
          "output_type": "execute_result",
          "data": {
            "text/plain": [
              "[<matplotlib.lines.Line2D at 0x7fa97441b358>]"
            ]
          },
          "metadata": {
            "tags": []
          },
          "execution_count": 15
        },
        {
          "output_type": "display_data",
          "data": {
            "image/png": "[encoded data removed]",
            "text/plain": [
              "<Figure size 432x288 with 1 Axes>"
            ]
          },
          "metadata": {
            "tags": [],
            "needs_background": "light"
          }
        }
      ]
    },
    {
      "cell_type": "code",
      "metadata": {
        "id": "cJb33Ly6Hb3d",
        "colab_type": "code",
        "colab": {
          "base_uri": "https://localhost:8080/",
          "height": 284
        },
        "outputId": "d78f1cae-e6b3-42f5-b1a0-1fa1322d2df5"
      },
      "source": [
        "plt.scatter(Days,Confirmed)"
      ],
      "execution_count": 16,
      "outputs": [
        {
          "output_type": "execute_result",
          "data": {
            "text/plain": [
              "<matplotlib.collections.PathCollection at 0x7fa9743eff98>"
            ]
          },
          "metadata": {
            "tags": []
          },
          "execution_count": 16
        },
        {
          "output_type": "display_data",
          "data": {
            "image/png": "[encoded data removed]",
            "text/plain": [
              "<Figure size 432x288 with 1 Axes>"
            ]
          },
          "metadata": {
            "tags": [],
            "needs_background": "light"
          }
        }
      ]
    },
    {
      "cell_type": "code",
      "metadata": {
        "id": "iW_TXLvHOpwT",
        "colab_type": "code",
        "colab": {
          "base_uri": "https://localhost:8080/",
          "height": 672
        },
        "outputId": "47558f47-2351-458a-f7c2-f6a224266ffd"
      },
      "source": [
        "random_indices=(np.random.permutation(104))\n",
        "print(random_indices)\n",
        "Days_train=Days[random_indices[:]]\n",
        "print(Days_train)\n",
        "Confirmed_train=Confirmed[random_indices[:]]\n",
        "print(Confirmed_train)\n",
        "Recovered_train=Recovered[random_indices[:]]\n",
        "Recovered_test=Recovered[random_indices[80:]]\n",
        "print(Recovered_train)\n",
        "Deaths_train=Deaths[random_indices[:]]\n",
        "print(Deaths_train)\n",
        "\n"
      ],
      "execution_count": 17,
      "outputs": [
        {
          "output_type": "stream",
          "text": [
            "[  8  91  37  88  18  84  33   5   9  71  74  39  55  27 103  87 101  95\n",
            "  14  12  13  40  85  57  61  81  50  62  20  59  22  21  19 102   6  60\n",
            "  76  54  89  34  79  45  44  23  70  65  46  38  42   2  73   1  52  25\n",
            "  31  98  72  29  56  32  53  35  90  83  58  82  15  68  28  92  99  94\n",
            "  47  96  51   0  24  49  69   7  97  75  86  48  41  80  93  66  77  63\n",
            "  30  64  43  10  67  78  17  16  26  36   4 100  11   3]\n",
            "[  9  92  38  89  19  85  34   6  10  72  75  40  56  28 104  88 102  96\n",
            "  15  13  14  41  86  58  62  82  51  63  21  60  23  22  20 103   7  61\n",
            "  77  55  90  35  80  46  45  24  71  66  47  39  43   3  74   2  53  26\n",
            "  32  99  73  30  57  33  54  36  91  84  59  83  16  69  29  93 100  95\n",
            "  48  97  52   1  25  50  70   8  98  76  87  49  42  81  94  67  78  64\n",
            "  31  65  44  11  68  79  18  17  27  37   5 101  12   4]\n",
            "[  10 3427  466 3254   33 2739  285    4   23 3041 2190  431 1089  210\n",
            " 4842 2258 3214 3307   30    3   31  778 3007 1943 1602 2560  678 1576\n",
            "   64 1026  112  148   88 3889    4 1495 2682 1216 3607  120 2358  728\n",
            "  522  121 2608 2005  597  552  811    6 2091   18  984  117  346 3874\n",
            " 2436  221 1165  236 1233  327 3493 2436 1230 2933   17 2345  187 3390\n",
            " 3870 2701  583 3752 1567   14  150  790 2940   12 3827 2598 2554 1008\n",
            "  390 2287 2786 2078 2940 1606  352 2347  440   10 2161 2487   82   17\n",
            "  229  552    3 3721   15    3]\n",
            "[   0 1550   65 1877    0 2243    5    0    0 1196  964   67  169   63\n",
            " 3661 1664 1925 1315    6    0   18   51 1924  399  542  996  115  475\n",
            "    8  339    4    2    3 4161    0  422 8381  207 1562   31  779  106\n",
            "   94   14  821  749  205  150  119    0 1168    0  354   38   30 1380\n",
            " 1186    9  330   36  275   34 1718 1466  587 1352    0 1408   20 1632\n",
            " 1591 1802  180 1672  350    0    9  121  857    0 1935  698 1661  106\n",
            "  117 1225 5071 1202 1084  524   12  600  112    0  679 1248    0   14\n",
            "    8  142    0 1962    1    0]\n",
            "[   1  113    9  149    3  120    7    0    0   58  105   18   37   12\n",
            "  192  120  248  114    2    1    1   14   91   53   44  122   27   49\n",
            "    5   53   13    6    8  208    0   54  116   43  152    7   76   31\n",
            "   27    7   60   51   32   19   22    0   97    0   34    8   18   91\n",
            "   60   22   48    9   34   10  127  139   36  123    1   64   17  120\n",
            "  186 1409   27  100   35    0   12   36   63    0  142   85  109   26\n",
            "   18  103  178   76   99   67   11   63   19    0   65   89    1    2\n",
            "   25   12    0  113    0    1]\n"
          ],
          "name": "stdout"
        }
      ]
    },
    {
      "cell_type": "code",
      "metadata": {
        "id": "-24Q0yw9YXMg",
        "colab_type": "code",
        "colab": {
          "base_uri": "https://localhost:8080/",
          "height": 53
        },
        "outputId": "3663624a-a455-4e30-9a02-3b7b71fd0558"
      },
      "source": [
        "print(len(Confirmed_train))\n",
        "print(len(Recovered_train))"
      ],
      "execution_count": 18,
      "outputs": [
        {
          "output_type": "stream",
          "text": [
            "104\n",
            "104\n"
          ],
          "name": "stdout"
        }
      ]
    },
    {
      "cell_type": "code",
      "metadata": {
        "id": "udmaafl1aUAY",
        "colab_type": "code",
        "colab": {}
      },
      "source": [
        "#Linear Regression\n",
        "def model_train(x_train,y_train):\n",
        "  model=LinearRegression()#Instace for Linear Model\n",
        "  #sklearn takes input as matrix so we have to reshape the matrix into column matrix\n",
        "  x_train_for_fitting=np.matrix(x_train.reshape(len(x_train),1))\n",
        "  y_train_for_fitting=np.matrix(y_train.reshape(len(y_train),1))\n",
        "  \n",
        "  #fit the data into the model\n",
        "  return(model.fit(x_train_for_fitting,y_train_for_fitting))"
      ],
      "execution_count": 19,
      "outputs": []
    },
    {
      "cell_type": "code",
      "metadata": {
        "id": "C_JpIDAicSNc",
        "colab_type": "code",
        "colab": {
          "base_uri": "https://localhost:8080/",
          "height": 272
        },
        "outputId": "8174b39e-b51d-48b3-ac99-e23559e8970e"
      },
      "source": [
        "model=model_train(Days_train,Confirmed_train)\n",
        "model_prediction=model.predict(Days.reshape(len(Days),1))\n",
        "print(Days_train)\n",
        "print(Confirmed_train)"
      ],
      "execution_count": 20,
      "outputs": [
        {
          "output_type": "stream",
          "text": [
            "[  9  92  38  89  19  85  34   6  10  72  75  40  56  28 104  88 102  96\n",
            "  15  13  14  41  86  58  62  82  51  63  21  60  23  22  20 103   7  61\n",
            "  77  55  90  35  80  46  45  24  71  66  47  39  43   3  74   2  53  26\n",
            "  32  99  73  30  57  33  54  36  91  84  59  83  16  69  29  93 100  95\n",
            "  48  97  52   1  25  50  70   8  98  76  87  49  42  81  94  67  78  64\n",
            "  31  65  44  11  68  79  18  17  27  37   5 101  12   4]\n",
            "[  10 3427  466 3254   33 2739  285    4   23 3041 2190  431 1089  210\n",
            " 4842 2258 3214 3307   30    3   31  778 3007 1943 1602 2560  678 1576\n",
            "   64 1026  112  148   88 3889    4 1495 2682 1216 3607  120 2358  728\n",
            "  522  121 2608 2005  597  552  811    6 2091   18  984  117  346 3874\n",
            " 2436  221 1165  236 1233  327 3493 2436 1230 2933   17 2345  187 3390\n",
            " 3870 2701  583 3752 1567   14  150  790 2940   12 3827 2598 2554 1008\n",
            "  390 2287 2786 2078 2940 1606  352 2347  440   10 2161 2487   82   17\n",
            "  229  552    3 3721   15    3]\n"
          ],
          "name": "stdout"
        }
      ]
    },
    {
      "cell_type": "code",
      "metadata": {
        "id": "WqUIm-rnmveM",
        "colab_type": "code",
        "colab": {
          "base_uri": "https://localhost:8080/",
          "height": 283
        },
        "outputId": "466963fe-8a72-4338-aa3d-98966e7417b2"
      },
      "source": [
        "plt.scatter(Days_train,Confirmed_train,color=\"red\")\n",
        "plt.plot(Days.reshape(len(Days),1),model_prediction,color=\"green\")"
      ],
      "execution_count": 21,
      "outputs": [
        {
          "output_type": "execute_result",
          "data": {
            "text/plain": [
              "[<matplotlib.lines.Line2D at 0x7fa9743a4e10>]"
            ]
          },
          "metadata": {
            "tags": []
          },
          "execution_count": 21
        },
        {
          "output_type": "display_data",
          "data": {
            "image/png": "[encoded data removed]",
            "text/plain": [
              "<Figure size 432x288 with 1 Axes>"
            ]
          },
          "metadata": {
            "tags": [],
            "needs_background": "light"
          }
        }
      ]
    },
    {
      "cell_type": "code",
      "metadata": {
        "id": "Q8ZtHo2Jo4Tb",
        "colab_type": "code",
        "colab": {}
      },
      "source": [
        "def poly_regr(X_train,Y_train,degree):\n",
        "  polynom=PolynomialFeatures(degree=degree)\n",
        "  X_poly=polynom.fit_transform(X_train.reshape(len(X_train),1))\n",
        "  polyReg=LinearRegression()\n",
        "  return polyReg.fit(X_poly,Y_train.reshape(len(Y_train),1))"
      ],
      "execution_count": 22,
      "outputs": []
    },
    {
      "cell_type": "code",
      "metadata": {
        "id": "5VHRBIOWyf8R",
        "colab_type": "code",
        "colab": {}
      },
      "source": [
        "polynom=PolynomialFeatures(degree=4)\n",
        "model=poly_regr(Days_train,Confirmed_train,4)"
      ],
      "execution_count": 23,
      "outputs": []
    },
    {
      "cell_type": "code",
      "metadata": {
        "id": "nksUqb1Ky6hP",
        "colab_type": "code",
        "colab": {
          "base_uri": "https://localhost:8080/",
          "height": 35
        },
        "outputId": "58e85b19-7cdb-4224-b29c-d74cccdb6eb2"
      },
      "source": [
        "print(model)\n",
        "\n",
        "predict=model.predict(polynom.fit_transform(Days_train.reshape(len(Days_train),1)))"
      ],
      "execution_count": 24,
      "outputs": [
        {
          "output_type": "stream",
          "text": [
            "LinearRegression(copy_X=True, fit_intercept=True, n_jobs=None, normalize=False)\n"
          ],
          "name": "stdout"
        }
      ]
    },
    {
      "cell_type": "code",
      "metadata": {
        "id": "x5B5eBNuzmFc",
        "colab_type": "code",
        "colab": {}
      },
      "source": [
        "#Creating Array Of Custom Days\n",
        "Days_array=[]\n",
        "for i in range(1,140):\n",
        "  Days_array.append(i)\n",
        "Days_predict=np.array(Days_array)\n",
        "#Prdict the model on future date\n",
        "predict_confirm=model.predict(polynom.fit_transform(Days_predict.reshape(len(Days_predict),1)))"
      ],
      "execution_count": 31,
      "outputs": []
    },
    {
      "cell_type": "code",
      "metadata": {
        "id": "fdEnaIJW2MNB",
        "colab_type": "code",
        "colab": {
          "base_uri": "https://localhost:8080/",
          "height": 313
        },
        "outputId": "cf722280-0069-4f17-ddeb-05bdd7c89b0e"
      },
      "source": [
        "plt.title(\"Days from 14 august to 25 June\")\n",
        "plt.xlabel(\"Days\")\n",
        "plt.ylabel(\"Confirmed cases\")\n",
        "plt.scatter(Days_train,Confirmed_train,color=\"red\")\n",
        "plt.plot(Days_predict,predict_confirm,color=\"blue\")"
      ],
      "execution_count": 34,
      "outputs": [
        {
          "output_type": "execute_result",
          "data": {
            "text/plain": [
              "[<matplotlib.lines.Line2D at 0x7fa973d5b3c8>]"
            ]
          },
          "metadata": {
            "tags": []
          },
          "execution_count": 34
        },
        {
          "output_type": "display_data",
          "data": {
            "image/png": "[encoded data removed]",
            "text/plain": [
              "<Figure size 432x288 with 1 Axes>"
            ]
          },
          "metadata": {
            "tags": [],
            "needs_background": "light"
          }
        }
      ]
    },
    {
      "cell_type": "code",
      "metadata": {
        "id": "GmrrRp_X2mH3",
        "colab_type": "code",
        "colab": {}
      },
      "source": [
        ""
      ],
      "execution_count": 26,
      "outputs": []
    }
  ]
}
